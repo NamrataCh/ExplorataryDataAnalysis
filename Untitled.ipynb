{
 "cells": [
  {
   "cell_type": "code",
   "execution_count": 4,
   "id": "59dc3a7c",
   "metadata": {},
   "outputs": [
    {
     "name": "stdout",
     "output_type": "stream",
     "text": [
      "None\n",
      "None\n",
      "1\n",
      "1\n",
      "2\n",
      "2\n",
      "4\n",
      "Test case 0 passed\n",
      "Accepted, 1/1 passed\n"
     ]
    }
   ],
   "source": [
    "# Platfrom: HackerRank\n",
    "# Position: Experienced\n",
    "\n",
    "# Amazon parses logs of user transactions/activity to flag fraudulent activity. The log file is represented as an Array of arrays. The arrays consist of the following data:\n",
    "\n",
    "# [<userid1> <userid2> <# of transactions>]\n",
    "\n",
    "# For example:\n",
    "\n",
    "# [345366 89921 45]\n",
    "# Note the data is space delimited\n",
    "\n",
    "# So, the log data would look like:\n",
    "\n",
    "# [\n",
    "# [345366 89921 45],\n",
    "# [029323 38239 23]\n",
    "# ...\n",
    "# ]\n",
    "# Write a function to parse the log data to find distinct users that meet or cross a certain threshold. The function will take in 2 inputs:\n",
    "\n",
    "# Input 1: Log data in form an array of arrays\n",
    "# Input 2: threshold as an integer\n",
    "\n",
    "# Output should be an array of userids that are sorted.\n",
    "\n",
    "\n",
    "# If same userid appears in the transaction as userid1 and userid2, it should count as one occurence, not two.\n",
    "class Solution:\n",
    "    def transaction_logs(self, logs, threshold):\n",
    "        user_map = {}\n",
    "        for log in logs:\n",
    "            log_arr = log[0].split(\" \")\n",
    "            user_map[log_arr[0]] = user_map.get(log_arr[0], 0) + 1\n",
    "            if (log_arr[0] != log_arr[1]):\n",
    "                user_map[log_arr[1]] = user_map.get(log_arr[1], 0) + 1\n",
    "        \n",
    "        target_users = []\n",
    "        for key, val in user_map.items():\n",
    "            if (val >= threshold):\n",
    "                target_users.append(int(key))\n",
    "        return sorted(target_users, reverse=True)\n",
    "\n",
    "\n",
    "logs = [[[\"345366 89921 45\"], [\"029323 38239 23\"], [\"38239 345366 15\"],\n",
    "         [\"029323 38239 77\"], [\"345366 38239 23\"], [\"029323 345366 13\"],\n",
    "         [\"38239 38239 23\"]]]\n",
    "\n",
    "thresholds = [3]\n",
    "\n",
    "outputs = [[345366, 38239, 29323]]\n",
    "\n",
    "s = Solution()\n",
    "pass_count = 0\n",
    "for i in range(len(logs)):\n",
    "    res = s.transaction_logs(logs[i], thresholds[i])\n",
    "    if (res == outputs[i]):\n",
    "        pass_count += 1\n",
    "        print(\"Test case {} passed\".format(i))\n",
    "    else:\n",
    "        print(\"Test case {} failed\".format(i))\n",
    "\n",
    "pass_status = \"Accepted\" if pass_count == len(logs) else \"Wrong answer\"\n",
    "print(\"{}, {}/{} passed\".format(pass_status, pass_count, len(logs)))\n"
   ]
  },
  {
   "cell_type": "markdown",
   "id": "4ed78e17",
   "metadata": {},
   "source": [
    "https://leetcode.com/discuss/interview-question/912928/amazon-oa-2020-gifting-groups-friend-circle-lc-doesnt-solve-this"
   ]
  },
  {
   "cell_type": "code",
   "execution_count": null,
   "id": "4f68938e",
   "metadata": {},
   "outputs": [],
   "source": []
  }
 ],
 "metadata": {
  "kernelspec": {
   "display_name": "Python 3 (ipykernel)",
   "language": "python",
   "name": "python3"
  },
  "language_info": {
   "codemirror_mode": {
    "name": "ipython",
    "version": 3
   },
   "file_extension": ".py",
   "mimetype": "text/x-python",
   "name": "python",
   "nbconvert_exporter": "python",
   "pygments_lexer": "ipython3",
   "version": "3.9.7"
  }
 },
 "nbformat": 4,
 "nbformat_minor": 5
}
